{
 "cells": [
  {
   "cell_type": "markdown",
   "id": "05e00262",
   "metadata": {},
   "source": [
    "## Question 1\n",
    "### 1). Write a Python program to check whether a string is a palindrome or not using a stack.\n",
    "PS: Pay attention to the specified data structure."
   ]
  },
  {
   "cell_type": "markdown",
   "id": "2f5d18c0",
   "metadata": {},
   "source": [
    "We can start by breaking down our peoblem into modeles. \n",
    "\n",
    "First lets ask our self;\n",
    "\n",
    "1. what a paliderome is\n",
    "\n",
    "2. What is a stack\n",
    "\n",
    "3. Then write down our python program\n",
    "\n",
    "* A string is said to be a palindrome if it remains the same on reading from both ends. A good example includes strings like `mum`, `dad`, `nun`, `radar`, `nurse run`, `civic`, `level` etc\n",
    "\n",
    "It means that when you reverse a given string, it should be the same as the original string.\n",
    "\n",
    "* A basic stack is implemented using a list. The stack has methods to push, pop, and check if it's empty.\n",
    "* A stack is a linear data structure that stores items in a Last In First Out way."
   ]
  },
  {
   "cell_type": "code",
   "execution_count": 8,
   "id": "4018575b",
   "metadata": {},
   "outputs": [],
   "source": [
    "# string_ = 'radar'\n",
    "# palindrome = string[::-1]\n",
    "\n",
    "# print(string_)\n",
    "# print(palindrome)"
   ]
  },
  {
   "cell_type": "code",
   "execution_count": 15,
   "id": "a50bce21",
   "metadata": {},
   "outputs": [],
   "source": [
    "class Stack:\n",
    "    \n",
    "    def __init__(self):\n",
    "        self.items = []\n",
    "    \n",
    "    def push(self, item):\n",
    "        self.items.append(item)\n",
    "    \n",
    "    def pop(self):\n",
    "        return self.items.pop()\n",
    "    \n",
    "    def empty(self):\n",
    "        return self.items == []\n",
    "    \n",
    "def palindrome(string):\n",
    "    #create a stack of oblects\n",
    "    stack = Stack()\n",
    "    \n",
    "    #push eacg character to the stack\n",
    "    for char in string:\n",
    "        stack.push(char)\n",
    "        \n",
    "    # Pop characters from the stack and compare with the string\n",
    "    for char in string:\n",
    "        if char != stack.pop():\n",
    "            return False\n",
    " \n",
    "    return True"
   ]
  },
  {
   "cell_type": "code",
   "execution_count": 16,
   "id": "229a0613",
   "metadata": {},
   "outputs": [
    {
     "name": "stdout",
     "output_type": "stream",
     "text": [
      "radar is a palindrome.\n"
     ]
    }
   ],
   "source": [
    "# Example usage\n",
    "input_string = \"radar\"\n",
    "result = palindrome(input_string.lower())  # Convert to lowercase for case-insensitivity\n",
    "if result:\n",
    "    print(f\"{input_string} is a palindrome.\")\n",
    "else:\n",
    "    print(f\"{input_string} is not a palindrome.\")"
   ]
  },
  {
   "cell_type": "markdown",
   "id": "54225b2b",
   "metadata": {},
   "source": [
    "## Question 2\n",
    "### Explain the concept of list comprehension in Python with at least three examples."
   ]
  },
  {
   "cell_type": "markdown",
   "id": "1a96c22d",
   "metadata": {},
   "source": [
    "List comprehension is an easy to read, compact, and elegant way of creating a list from any existing iterable object. Basically, it's a simpler way to create a new list from the values in a list you already have.\n",
    "\n",
    "The advatages of using list comprehension are:\n",
    "1. Requires less line of code\n",
    "2. The run time is much faster and efficient compared to that of a loop\n",
    "\n",
    "We shall test these below to see the differencs"
   ]
  },
  {
   "cell_type": "code",
   "execution_count": 17,
   "id": "62c9600b",
   "metadata": {},
   "outputs": [],
   "source": [
    "names = ['Jerry', 'Kramer', 'Elaine', 'George', 'Newman']"
   ]
  },
  {
   "cell_type": "markdown",
   "id": "1f8c0489",
   "metadata": {},
   "source": [
    "Suppose you wanted to collect the names in the above list that have six letters or more. "
   ]
  },
  {
   "cell_type": "code",
   "execution_count": 47,
   "id": "b76da60f",
   "metadata": {},
   "outputs": [
    {
     "name": "stdout",
     "output_type": "stream",
     "text": [
      "1.65 µs ± 64.9 ns per loop (mean ± std. dev. of 7 runs, 1,000,000 loops each)\n"
     ]
    }
   ],
   "source": [
    "%%timeit\n",
    "better_list = []\n",
    "for name in names:\n",
    "    if len(name) >= 6:\n",
    "        better_list.append(name)\n"
   ]
  },
  {
   "cell_type": "code",
   "execution_count": 48,
   "id": "7455f124",
   "metadata": {},
   "outputs": [
    {
     "name": "stdout",
     "output_type": "stream",
     "text": [
      "['Kramer', 'Elaine', 'George', 'Newman']\n"
     ]
    }
   ],
   "source": [
    "print(better_list)"
   ]
  },
  {
   "cell_type": "markdown",
   "id": "2ab9ceb4",
   "metadata": {},
   "source": [
    "The best Pythonic way of doing this by using list comprehension."
   ]
  },
  {
   "cell_type": "code",
   "execution_count": 27,
   "id": "30d2a67c",
   "metadata": {},
   "outputs": [
    {
     "name": "stdout",
     "output_type": "stream",
     "text": [
      "1.3 µs ± 15.7 ns per loop (mean ± std. dev. of 7 runs, 1,000,000 loops each)\n",
      "['Kramer', 'Elaine', 'George', 'Newman']\n"
     ]
    }
   ],
   "source": [
    "%timeit best_list = [name for name in names if len(name) >= 6]\n",
    "print(best_list)"
   ]
  },
  {
   "cell_type": "markdown",
   "id": "76c99026",
   "metadata": {},
   "source": [
    "### Example 2\n",
    "### Write a code that checks the parity (odd/even) of each element in the list and returns 1 for odd numbers and 0 for even numbers."
   ]
  },
  {
   "cell_type": "code",
   "execution_count": 21,
   "id": "2c80563f",
   "metadata": {},
   "outputs": [
    {
     "data": {
      "text/plain": [
       "[1, 0, 1, 0, 1]"
      ]
     },
     "execution_count": 21,
     "metadata": {},
     "output_type": "execute_result"
    }
   ],
   "source": [
    "l=[1,2,3,4,5]\n",
    "[x&1 for x in l]"
   ]
  },
  {
   "cell_type": "markdown",
   "id": "d9efc296",
   "metadata": {},
   "source": [
    "### Example 3\n",
    "### Write a list comprehension for number and its cube for l=[1, 2, 3, 4, 5, 6, 7, 8, 9]."
   ]
  },
  {
   "cell_type": "markdown",
   "id": "5b710a20",
   "metadata": {},
   "source": [
    "Bitwise AND operation (&):\n",
    "The expression x & 1 performs a bitwise AND between x and 1.\n",
    "\n",
    "In binary, 1 is represented as 0001.\n",
    "The result of x & 1 will be 1 if the least significant bit of x is 1, and 0 if it is 0.\n",
    "This operation effectively checks whether the number x is odd or even:\n",
    "\n",
    "If x is odd, x & 1 results in 1.\n",
    "If x is even, x & 1 results in 0"
   ]
  },
  {
   "cell_type": "code",
   "execution_count": 29,
   "id": "2e1087bf",
   "metadata": {},
   "outputs": [
    {
     "name": "stdout",
     "output_type": "stream",
     "text": [
      "[1, 8, 27, 64, 125, 216, 343, 512, 729]\n"
     ]
    }
   ],
   "source": [
    "i = [1,2,3,4,5,6,7,8,9]\n",
    "cube = [x**3 for x in i]\n",
    "print(cube)"
   ]
  },
  {
   "cell_type": "markdown",
   "id": "921f0e0d",
   "metadata": {},
   "source": [
    "## Question 3\n",
    "### Explain what a compound datatype is in Python with three examples."
   ]
  },
  {
   "cell_type": "markdown",
   "id": "c96c810a",
   "metadata": {},
   "source": [
    "In Python, a compound datatype is a data structure that can hold multiple values or elements. These values can be of different types (integers, strings, floats, other compound datatypes, etc.) and are typically organized in a way that allows you to access, manipulate, and iterate over them."
   ]
  },
  {
   "cell_type": "markdown",
   "id": "5bebf0a5",
   "metadata": {},
   "source": [
    "1. List\n",
    "Description: A list is an ordered collection of elements, which can be of any type. Lists are mutable, meaning you can modify their content (e.g., add, remove, or change elements).\n",
    "Example:"
   ]
  },
  {
   "cell_type": "code",
   "execution_count": 31,
   "id": "d4acbbdc",
   "metadata": {},
   "outputs": [
    {
     "data": {
      "text/plain": [
       "'apple'"
      ]
     },
     "execution_count": 31,
     "metadata": {},
     "output_type": "execute_result"
    }
   ],
   "source": [
    "my_list = [1, \"apple\", 3.14, True, [2, 4, 6]]\n",
    "my_list[1]"
   ]
  },
  {
   "cell_type": "markdown",
   "id": "4ac0788b",
   "metadata": {},
   "source": [
    "2. Tuple\n",
    "Description: A tuple is similar to a list in that it is an ordered collection of elements. However, tuples are immutable, meaning once created, their content cannot be changed.\n",
    "Example:"
   ]
  },
  {
   "cell_type": "code",
   "execution_count": 32,
   "id": "94d92c0e",
   "metadata": {},
   "outputs": [],
   "source": [
    "my_tuple = (10, \"banana\", 2.71, False)"
   ]
  },
  {
   "cell_type": "markdown",
   "id": "42436b66",
   "metadata": {},
   "source": [
    "3. Dictionary\n",
    "Description: A dictionary is an unordered collection of key-value pairs. Each key is unique, and it is used to access the corresponding value. Dictionaries are mutable, allowing you to change, add, or remove key-value pairs.\n",
    "\n",
    "    Example:"
   ]
  },
  {
   "cell_type": "code",
   "execution_count": 33,
   "id": "f7214141",
   "metadata": {},
   "outputs": [],
   "source": [
    "my_dict = {\"name\": \"John\", \"age\": 25, \"is_student\": True}"
   ]
  },
  {
   "cell_type": "markdown",
   "id": "fb7e9f42",
   "metadata": {},
   "source": [
    "## Question 4\n",
    "### Write a function that takes a string and returns a list of bigrams."
   ]
  },
  {
   "cell_type": "markdown",
   "id": "98245637",
   "metadata": {},
   "source": [
    "a bigram is a pair of consecutive written units such as letters, syllables, or words.\n",
    "\n",
    "In natural language processing (NLP) a bigram language model is a type of statistical language model that predicts the probability of a word in a sequence based on the previous word. It considers pairs of consecutive words (bigrams) and estimates the likelihood of encountering a specific word given the preceding word in a text or sentence.\n",
    "\n",
    "examples of a 2-gram (bigram) is a two-word sequence of words like “please turn”, “turn your”, or ”your homework”."
   ]
  },
  {
   "cell_type": "code",
   "execution_count": 34,
   "id": "4a1cde1a",
   "metadata": {},
   "outputs": [
    {
     "name": "stdout",
     "output_type": "stream",
     "text": [
      "[('This', 'is'), ('is', 'a'), ('a', 'sample'), ('sample', 'text'), ('text', 'for'), ('for', 'generating'), ('generating', 'bigrams.')]\n"
     ]
    }
   ],
   "source": [
    "def generate_bigrams(text):\n",
    "    # Split the string into words\n",
    "    words = text.split()\n",
    "    \n",
    "    # Generate bigrams using enumerate and list comprehension\n",
    "    bigrams = [(words[i], words[i+1]) for i, _ in enumerate(words[:-1])]\n",
    "    \n",
    "    return bigrams\n",
    "\n",
    "# Example usage:\n",
    "text = \"This is a sample text for generating bigrams.\"\n",
    "bigrams = generate_bigrams(text)\n",
    "print(bigrams)\n"
   ]
  },
  {
   "cell_type": "markdown",
   "id": "5e57946f",
   "metadata": {},
   "source": [
    "we can also use the range function in place of enumirate and have a function below that does the same"
   ]
  },
  {
   "cell_type": "code",
   "execution_count": 35,
   "id": "6422893d",
   "metadata": {},
   "outputs": [
    {
     "name": "stdout",
     "output_type": "stream",
     "text": [
      "[('This', 'is'), ('is', 'a'), ('a', 'sample'), ('sample', 'text'), ('text', 'for'), ('for', 'generating'), ('generating', 'bigrams.')]\n"
     ]
    }
   ],
   "source": [
    "def generate_bigrams(text):\n",
    "    # Split the string into words\n",
    "    words = text.split()\n",
    "    \n",
    "    # Generate bigrams\n",
    "    bigrams = [(words[i], words[i+1]) for i in range(len(words)-1)]\n",
    "    \n",
    "    return bigrams\n",
    "\n",
    "# Example usage:\n",
    "text = \"This is a sample text for generating bigrams.\"\n",
    "bigrams = generate_bigrams(text)\n",
    "print(bigrams)\n"
   ]
  },
  {
   "cell_type": "markdown",
   "id": "c8afaaa6",
   "metadata": {},
   "source": [
    "## Question 5\n",
    "### Given a dictionary with keys as letters and values as lists of letters, write a function closest_key to find the key with the input value closest to the beginning of the list."
   ]
  },
  {
   "cell_type": "markdown",
   "id": "03763afb",
   "metadata": {},
   "source": [
    "Let's break down the question step by step:\n",
    "\n",
    "### The Problem Statement:\n",
    "You have a dictionary where:\n",
    "\n",
    "* Keys are letters (like 'a', 'b', 'c', etc.).\n",
    "* Values are lists of letters (like ['x', 'y', 'z']).\n",
    "### The Task:\n",
    "You need to write a function called closest_key that:\n",
    "\n",
    "* Takes this dictionary and a target value (which is a letter).\n",
    "* Finds and returns the key whose corresponding list has the target value closest to the beginning of the list.\n",
    "### What \"Closest to the Beginning\" Means:\n",
    "* Closest to the beginning refers to the position of the target value within each list. For example, in the list ['x', 'y', 'z'], 'x' is at position 0 (the beginning), 'y' is at position 1, and 'z' is at position 2.\n",
    "* If 'y' appears in multiple lists in the dictionary, you want to find the list where 'y' is at the lowest position (closest to position 0)."
   ]
  },
  {
   "cell_type": "code",
   "execution_count": 49,
   "id": "b56c1fd5",
   "metadata": {},
   "outputs": [
    {
     "name": "stdout",
     "output_type": "stream",
     "text": [
      "The closest key for 'y' is: a\n"
     ]
    }
   ],
   "source": [
    "def closest_key(d, target_value):\n",
    "    # Initialize variables to keep track of the closest key and position\n",
    "    closest_key = None\n",
    "    closest_position = float('inf')  # Set to a very large number initially\n",
    "    \n",
    "    # Iterate through each key and its associated list in the dictionary\n",
    "    for key, value_list in d.items():\n",
    "        # Check if the target_value is in the current list\n",
    "        if target_value in value_list:\n",
    "            # Get the position (index) of the target_value in the list\n",
    "            position = value_list.index(target_value)\n",
    "            \n",
    "            # If this position is closer to the beginning than the current closest, update\n",
    "            if position < closest_position:\n",
    "                closest_position = position\n",
    "                closest_key = key\n",
    "    \n",
    "    return closest_key\n",
    "\n",
    "# Example usage:\n",
    "d = {\n",
    "    'a': ['x', 'y', 'z'],\n",
    "    'b': ['w', 'x', 'y'],\n",
    "    'c': ['z', 'y', 'x']\n",
    "}\n",
    "\n",
    "target_value = 'y'\n",
    "key = closest_key(d, target_value)\n",
    "print(f\"The closest key for '{target_value}' is: {key}\")\n"
   ]
  },
  {
   "cell_type": "code",
   "execution_count": null,
   "id": "5fa7d147",
   "metadata": {},
   "outputs": [],
   "source": []
  }
 ],
 "metadata": {
  "kernelspec": {
   "display_name": "Python 3 (ipykernel)",
   "language": "python",
   "name": "python3"
  },
  "language_info": {
   "codemirror_mode": {
    "name": "ipython",
    "version": 3
   },
   "file_extension": ".py",
   "mimetype": "text/x-python",
   "name": "python",
   "nbconvert_exporter": "python",
   "pygments_lexer": "ipython3",
   "version": "3.9.12"
  }
 },
 "nbformat": 4,
 "nbformat_minor": 5
}
